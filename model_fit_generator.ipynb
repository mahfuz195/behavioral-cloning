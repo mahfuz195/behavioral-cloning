{
 "cells": [
  {
   "cell_type": "code",
   "execution_count": 1,
   "metadata": {},
   "outputs": [
    {
     "name": "stderr",
     "output_type": "stream",
     "text": [
      "Using TensorFlow backend.\n",
      "/home/carnd/anaconda3/envs/carnd-term1/lib/python3.5/site-packages/h5py/__init__.py:34: FutureWarning: Conversion of the second argument of issubdtype from `float` to `np.floating` is deprecated. In future, it will be treated as `np.float64 == np.dtype(float).type`.\n",
      "  from ._conv import register_converters as _register_converters\n"
     ]
    }
   ],
   "source": [
    "from keras.models import Sequential\n",
    "from keras.layers import Flatten, Dense, Lambda\n",
    "import keras\n",
    "import keras.models as models\n",
    "\n",
    "from keras.models import Sequential, Model\n",
    "from keras.layers.core import Dense, Dropout, Activation, Flatten, Reshape\n",
    "from keras.layers import BatchNormalization,Input, Cropping2D \n",
    "\n",
    "from keras.layers.recurrent import SimpleRNN, LSTM\n",
    "from keras.layers.convolutional import Convolution2D\n",
    "from keras.optimizers import SGD, Adam, RMSprop\n",
    "from keras.models import Model\n",
    "import matplotlib.pyplot as plt\n",
    "from keras.layers.advanced_activations import ELU\n",
    "from keras.regularizers import l2\n",
    "from random import shuffle\n",
    "from PIL import Image"
   ]
  },
  {
   "cell_type": "code",
   "execution_count": 2,
   "metadata": {},
   "outputs": [
    {
     "name": "stdout",
     "output_type": "stream",
     "text": [
      "OK\n"
     ]
    }
   ],
   "source": [
    "import os\n",
    "import csv\n",
    "images = []\n",
    "angles = []\n",
    "samples = []\n",
    "with open('data/driving_log.csv') as csvfile:\n",
    "    i = 0 \n",
    "    reader = csv.reader(csvfile)\n",
    "    for line in reader:\n",
    "        if i==0: \n",
    "            i+=1\n",
    "            continue\n",
    "        samples.append(line)\n",
    "\n",
    "from sklearn.model_selection import train_test_split\n",
    "train_samples, validation_samples = train_test_split(samples, test_size=0.2)\n",
    "\n",
    "import cv2\n",
    "import numpy as np\n",
    "import sklearn\n",
    "\n",
    "def generator(samples, batch_size=32):\n",
    "    num_samples = len(samples)\n",
    "    i = 0\n",
    "    correction = 0.25\n",
    "    \n",
    "    while 1: # Loop forever so the generator never terminates\n",
    "        shuffle(samples)\n",
    "        for offset in range(0, num_samples, batch_size):\n",
    "            batch_samples = samples[offset:offset+batch_size]\n",
    "\n",
    "            images = []\n",
    "            angles = []\n",
    "            for batch_sample in batch_samples:\n",
    "                name_center = 'data/IMG/'+batch_sample[0].split('/')[-1].strip()\n",
    "                name_left   = 'data/IMG/'+batch_sample[1].split('/')[-1].strip()\n",
    "                name_right  = 'data/IMG/'+batch_sample[2].split('/')[-1].strip()\n",
    "                \n",
    "                center_image = np.asarray(Image.open(name_center))\n",
    "                left_image   = np.asarray(Image.open(name_left))\n",
    "                right_image  = np.asarray(Image.open(name_right))\n",
    "                \n",
    "                steering_center = float(batch_sample[3])\n",
    "                steering_left = steering_center + correction\n",
    "                steering_right = steering_center - correction\n",
    "\n",
    "                images.append(center_image)\n",
    "                images.append(left_image)\n",
    "                images.append(right_image)\n",
    "                \n",
    "                angles.append(steering_center)\n",
    "                angles.append(steering_left)\n",
    "                angles.append(steering_right)\n",
    "                \n",
    "                #images.extend([center_image, left_image, right_image])\n",
    "                #angles.extend([steering_center, steering_left, steering_right])\n",
    "\n",
    "                img_center_flipped = np.fliplr(center_image)\n",
    "                img_left_flipped   = np.fliplr(left_image)\n",
    "                img_right_flipped  = np.fliplr(right_image)\n",
    "\n",
    "                #images.extend([img_center_flipped, img_left_flipped, img_right_flipped])\n",
    "                #angles.extend([[-steering_center, -steering_left, -steering_right]])\n",
    "                \n",
    "                images.append(img_center_flipped)\n",
    "                images.append(img_left_flipped)\n",
    "                images.append(img_right_flipped)\n",
    "                \n",
    "                angles.append(-steering_center)\n",
    "                angles.append(-steering_left)\n",
    "                angles.append(-steering_right)\n",
    "\n",
    "            # trim image to only see section with road\n",
    "            X_train = np.array(images)\n",
    "            y_train = np.array(angles)\n",
    "            yield sklearn.utils.shuffle(X_train, y_train)\n",
    "\n",
    "# compile and train the model using the generator function\n",
    "\n",
    "train_generator = generator(train_samples, batch_size=32)\n",
    "validation_generator = generator(validation_samples, batch_size=32)\n",
    "\n",
    "print ('OK')"
   ]
  },
  {
   "cell_type": "code",
   "execution_count": 3,
   "metadata": {},
   "outputs": [
    {
     "name": "stdout",
     "output_type": "stream",
     "text": [
      "Epoch 1/25\n",
      "6336/6428 [============================>.] - ETA: 0s - loss: 0.7537"
     ]
    },
    {
     "name": "stderr",
     "output_type": "stream",
     "text": [
      "/home/carnd/anaconda3/envs/carnd-term1/lib/python3.5/site-packages/keras/engine/training.py:1569: UserWarning: Epoch comprised more than `samples_per_epoch` samples, which might affect learning results. Set `samples_per_epoch` correctly to avoid this warning.\n",
      "  warnings.warn('Epoch comprised more than '\n"
     ]
    },
    {
     "name": "stdout",
     "output_type": "stream",
     "text": [
      "6528/6428 [==============================] - 22s - loss: 0.7468 - val_loss: 0.5180\n",
      "Epoch 2/25\n",
      "6528/6428 [==============================] - 16s - loss: 0.5065 - val_loss: 0.4930\n",
      "Epoch 3/25\n",
      "6528/6428 [==============================] - 17s - loss: 0.4807 - val_loss: 0.4662\n",
      "Epoch 4/25\n",
      "6528/6428 [==============================] - 17s - loss: 0.4556 - val_loss: 0.4415\n",
      "Epoch 5/25\n",
      "6528/6428 [==============================] - 17s - loss: 0.4358 - val_loss: 0.4198\n",
      "Epoch 6/25\n",
      "6504/6428 [==============================] - 17s - loss: 0.4142 - val_loss: 0.4027\n",
      "Epoch 7/25\n",
      "6528/6428 [==============================] - 16s - loss: 0.3887 - val_loss: 0.3757\n",
      "Epoch 8/25\n",
      "6528/6428 [==============================] - 16s - loss: 0.3712 - val_loss: 0.3590\n",
      "Epoch 9/25\n",
      "6528/6428 [==============================] - 16s - loss: 0.3559 - val_loss: 0.3444\n",
      "Epoch 10/25\n",
      "6528/6428 [==============================] - 16s - loss: 0.3375 - val_loss: 0.3247\n",
      "Epoch 11/25\n",
      "6528/6428 [==============================] - 16s - loss: 0.3201 - val_loss: 0.3086\n",
      "Epoch 12/25\n",
      "6504/6428 [==============================] - 16s - loss: 0.3059 - val_loss: 0.2987\n",
      "Epoch 13/25\n",
      "6528/6428 [==============================] - 16s - loss: 0.2907 - val_loss: 0.2821\n",
      "Epoch 14/25\n",
      "6528/6428 [==============================] - 16s - loss: 0.2755 - val_loss: 0.2731\n",
      "Epoch 15/25\n",
      "6528/6428 [==============================] - 16s - loss: 0.2643 - val_loss: 0.2579\n",
      "Epoch 16/25\n",
      "6528/6428 [==============================] - 16s - loss: 0.2539 - val_loss: 0.2434\n",
      "Epoch 17/25\n",
      "6528/6428 [==============================] - 16s - loss: 0.2433 - val_loss: 0.2326\n",
      "Epoch 18/25\n",
      "6504/6428 [==============================] - 16s - loss: 0.2318 - val_loss: 0.2248\n",
      "Epoch 19/25\n",
      "6528/6428 [==============================] - 16s - loss: 0.2222 - val_loss: 0.2198\n",
      "Epoch 20/25\n",
      "6528/6428 [==============================] - 16s - loss: 0.2117 - val_loss: 0.2089\n",
      "Epoch 21/25\n",
      "6528/6428 [==============================] - 16s - loss: 0.2038 - val_loss: 0.2002\n",
      "Epoch 22/25\n",
      "6528/6428 [==============================] - 16s - loss: 0.1953 - val_loss: 0.1932\n",
      "Epoch 23/25\n",
      "6528/6428 [==============================] - 16s - loss: 0.1857 - val_loss: 0.1830\n",
      "Epoch 24/25\n",
      "6504/6428 [==============================] - 16s - loss: 0.1798 - val_loss: 0.1732\n",
      "Epoch 25/25\n",
      "6528/6428 [==============================] - 16s - loss: 0.1714 - val_loss: 0.1680\n"
     ]
    }
   ],
   "source": [
    "\n",
    "ch, row, col = 3, 160, 320  # Trimmed image format\n",
    "\n",
    "model = Sequential()\n",
    "# Preprocess incoming data, centered around zero with small standard deviation \n",
    "model.add(Lambda(lambda x: x/127.5 - 1.,input_shape=(row, col, ch),output_shape=(row, col, ch)))\n",
    "model.add(Cropping2D(cropping=((50,20), (0,0)), input_shape=(160,320,3)))\n",
    "\n",
    "#########################################################\n",
    "model.add(Convolution2D(24,5,5,border_mode='valid', W_regularizer=l2(0.001), subsample=(2,2)))\n",
    "model.add(ELU())\n",
    "model.add(Convolution2D(36,5,5,border_mode='valid',  W_regularizer=l2(0.001), subsample=(2,2)))\n",
    "model.add(ELU())\n",
    "model.add(Convolution2D(48,5,5,border_mode='valid',  W_regularizer=l2(0.001), subsample=(2,2)))\n",
    "model.add(ELU())\n",
    "model.add(Convolution2D(64,3,3,border_mode='valid',  W_regularizer=l2(0.001), subsample=(1,1)))\n",
    "model.add(ELU())\n",
    "model.add(Convolution2D(64,3,3,border_mode='valid',  W_regularizer=l2(0.001), subsample=(1,1)))\n",
    "model.add(ELU())\n",
    "model.add(Dropout(0.5))\n",
    "model.add(Flatten())\n",
    "#model.add(Dense(1164, activation='relu'))\n",
    "#model.add(ELU())\n",
    "#model.add(Dropout(0.5))\n",
    "model.add(Dense(100,  W_regularizer=l2(0.001)))\n",
    "model.add(ELU())\n",
    "#model.add(Dropout(0.5))\n",
    "model.add(Dense(50,  W_regularizer=l2(0.001)))\n",
    "model.add(ELU())\n",
    "model.add(Dense(10,  W_regularizer=l2(0.001)))\n",
    "model.add(ELU())\n",
    "model.add(Dense(1))\n",
    "#########################################################\n",
    "model.compile(loss='mse', optimizer='adam')\n",
    "history_object = model.fit_generator(train_generator, samples_per_epoch= \n",
    "            len(train_samples), validation_data=validation_generator, \n",
    "            nb_val_samples=len(validation_samples), nb_epoch=25)"
   ]
  },
  {
   "cell_type": "code",
   "execution_count": 4,
   "metadata": {},
   "outputs": [
    {
     "name": "stdout",
     "output_type": "stream",
     "text": [
      "Model Saved!\n"
     ]
    }
   ],
   "source": [
    "model.save('model_epoch_25.h5')\n",
    "print('Model Saved!')"
   ]
  },
  {
   "cell_type": "code",
   "execution_count": 5,
   "metadata": {},
   "outputs": [
    {
     "data": {
      "image/png": "[encoded data removed]",
      "text/plain": [
       "<matplotlib.figure.Figure at 0x7f4896101860>"
      ]
     },
     "metadata": {},
     "output_type": "display_data"
    }
   ],
   "source": [
    "\n",
    "### plot the training and validation loss for each epoch\n",
    "plt.plot(history_object.history['loss'])\n",
    "plt.plot(history_object.history['val_loss'])\n",
    "plt.title('model mean squared error loss')\n",
    "plt.ylabel('mean squared error loss')\n",
    "plt.xlabel('epoch')\n",
    "plt.legend(['training set', 'validation set'], loc='upper right')\n",
    "plt.show()"
   ]
  },
  {
   "cell_type": "code",
   "execution_count": null,
   "metadata": {
    "collapsed": true
   },
   "outputs": [],
   "source": []
  }
 ],
 "metadata": {
  "kernelspec": {
   "display_name": "Python 3",
   "language": "python",
   "name": "python3"
  },
  "language_info": {
   "codemirror_mode": {
    "name": "ipython",
    "version": 3
   },
   "file_extension": ".py",
   "mimetype": "text/x-python",
   "name": "python",
   "nbconvert_exporter": "python",
   "pygments_lexer": "ipython3",
   "version": "3.5.2"
  },
  "widgets": {
   "state": {},
   "version": "1.1.2"
  }
 },
 "nbformat": 4,
 "nbformat_minor": 2
}
